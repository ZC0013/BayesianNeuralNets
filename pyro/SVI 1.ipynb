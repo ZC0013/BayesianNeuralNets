{
 "cells": [
  {
   "cell_type": "code",
   "execution_count": 1,
   "metadata": {},
   "outputs": [
    {
     "data": {
      "text/plain": [
       "'\\nLink: https://pyro.ai/examples/svi_part_i.html\\n\\nWe try to approximate what we think our mode llooks like in a model and then we specify\\nthe guide which should be a parametrisable distribution that approximates the posterior: \\n\\nThe basic idea is that we introduce a parameterized distribution qϕ(z)\\n, where ϕ are known as the variational parameters.\\nThis distribution is called the variational distribution in\\nmuch of the literature, and in the context of Pyro it’s called the guide\\n(one syllable instead of nine!). \\nThe guide will serve as an approximation to the posterior\\n\\nJust like the model, the guide is encoded as a stochastic function guide()\\nthat contains pyro.sample and pyro.param statements.\\nIt does not contain observed data, since the guide needs to be a properly\\nnormalized distribution. Note that Pyro enforces that model() and guide()\\nhave the same call signature, i.e. both callables should take the same arguments.\\n\\nSince the guide is an approximation to the posterior pθmax(z|x),\\nthe guide needs to provide a valid joint probability density\\nover all the latent random variables in the model. \\nRecall that when random variables are specified in Pyro with\\nthe primitive statement pyro.sample() the first argument denotes\\nthe name of the random variable. These names will be used to align\\nthe random variables in the model and guide. To be very explicit,\\nif the model contains a random variable z_1\\n'"
      ]
     },
     "execution_count": 1,
     "metadata": {},
     "output_type": "execute_result"
    }
   ],
   "source": [
    "\"\"\"\n",
    "Link: https://pyro.ai/examples/svi_part_i.html\n",
    "\n",
    "We try to approximate what we think our mode llooks like in a model and then we specify\n",
    "the guide which should be a parametrisable distribution that approximates the posterior: \n",
    "\n",
    "The basic idea is that we introduce a parameterized distribution qϕ(z)\n",
    ", where ϕ are known as the variational parameters.\n",
    "This distribution is called the variational distribution in\n",
    "much of the literature, and in the context of Pyro it’s called the guide\n",
    "(one syllable instead of nine!). \n",
    "The guide will serve as an approximation to the posterior\n",
    "\n",
    "Just like the model, the guide is encoded as a stochastic function guide()\n",
    "that contains pyro.sample and pyro.param statements.\n",
    "It does not contain observed data, since the guide needs to be a properly\n",
    "normalized distribution. Note that Pyro enforces that model() and guide()\n",
    "have the same call signature, i.e. both callables should take the same arguments.\n",
    "\n",
    "Since the guide is an approximation to the posterior pθmax(z|x),\n",
    "the guide needs to provide a valid joint probability density\n",
    "over all the latent random variables in the model. \n",
    "Recall that when random variables are specified in Pyro with\n",
    "the primitive statement pyro.sample() the first argument denotes\n",
    "the name of the random variable. These names will be used to align\n",
    "the random variables in the model and guide. To be very explicit,\n",
    "if the model contains a random variable z_1\n",
    "\"\"\""
   ]
  },
  {
   "cell_type": "code",
   "execution_count": 2,
   "metadata": {},
   "outputs": [],
   "source": [
    "import matplotlib.pyplot as plt\n",
    "import numpy as np\n",
    "import torch\n",
    "\n",
    "import pyro\n",
    "import pyro.infer\n",
    "import pyro.distributions as dist\n",
    "from pyro.infer import SVI, Trace_ELBO\n",
    "\n",
    "\n",
    "pyro.set_rng_seed(101)"
   ]
  },
  {
   "cell_type": "code",
   "execution_count": 3,
   "metadata": {},
   "outputs": [],
   "source": [
    "# Suppose we are trying to figure out how much something weighs,\n",
    "# but the scale we’re using is unreliable and gives slightly different\n",
    "# answers every time we weigh the same object. \n",
    "# We could try to compensate for this variability by integrating the\n",
    "# noisy measurement information with a guess based on some prior knowledge\n",
    "# about the object, like its density or material properties. \n",
    "def model(guess):\n",
    "    weight = pyro.sample(\"weight\", dist.Normal(guess, 1.0))\n",
    "    return pyro.sample(\"measurement\", dist.Normal(weight, 0.75), obs = torch.tensor(9.5))\n",
    "\n",
    "# Define learnable parameters for our measurement \n",
    "def guide(guess):\n",
    "    a = pyro.param(\"a\", torch.tensor(guess))\n",
    "    b = pyro.param(\"b\", torch.tensor(1.))\n",
    "    return pyro.sample(\"weight\", dist.Normal(a, torch.abs(b)))"
   ]
  },
  {
   "cell_type": "code",
   "execution_count": 4,
   "metadata": {},
   "outputs": [],
   "source": [
    "\"\"\"\n",
    "The user needs to provide three things: the model, the guide, and an optimizer.\n",
    "We’ve discussed the model and guide above and we’ll discuss the optimizer\n",
    "in some detail below, so let’s assume we have all three ingredients at hand.\n",
    "To construct an instance of SVI that will do optimization via the ELBO objective, the user writes\n",
    "\"\"\"\n",
    "pyro.clear_param_store()\n",
    "\n",
    "adam_params = {\"lr\": 0.005, \"betas\": (0.95, 0.999)}\n",
    "optimizer = pyro.optim.Adam(adam_params)\n",
    "\"\"\"\n",
    "In Pyro, the model and guide are allowed to be arbitrary stochastic functions provided that\n",
    "\n",
    "guide doesn’t contain pyro.sample statements with the obs argument\n",
    "model and guide have the same call signature\n",
    "\n",
    "This presents some challenges because it means that different executions\n",
    "of model() and guide() may have quite different behavior, with e.g.\n",
    "certain latent random variables and parameters only appearing some of the time.\n",
    "Indeed parameters may be created dynamically during the course of inference.\n",
    "In other words the space we’re doing optimization over, \n",
    "which is parameterized by θ and ϕ, can grow and change dynamically.\n",
    "\n",
    "\"\"\""
   ]
  },
  {
   "cell_type": "code",
   "execution_count": null,
   "metadata": {},
   "outputs": [],
   "source": [
    "\n",
    "# Specify number of samples with respect to which we should try and compute the gradient e.g.:12\n",
    "svi = SVI(model, guide, optimizer, loss=Trace_ELBO(num_particles = 12))\n",
    "\n",
    "# svi.step() < single step and calculation of the gradient \n",
    "# svt.evaluate_loss() , returns an estimate of the loss without taking a gradient step "
   ]
  },
  {
   "cell_type": "code",
   "execution_count": 6,
   "metadata": {},
   "outputs": [
    {
     "name": "stdout",
     "output_type": "stream",
     "text": [
      "a =  9.150269508361816\n",
      "b =  0.6036313772201538\n"
     ]
    },
    {
     "data": {
      "image/png": "[encoded data removed]",
      "text/plain": [
       "<Figure size 432x288 with 1 Axes>"
      ]
     },
     "metadata": {
      "needs_background": "light"
     },
     "output_type": "display_data"
    }
   ],
   "source": [
    "losses, a,b  = [], [], []\n",
    "num_steps = 2500\n",
    "for t in range(num_steps):\n",
    "    losses.append(svi.step(8.5))\n",
    "    a.append(pyro.param(\"a\").item())\n",
    "    b.append(pyro.param(\"b\").item())\n",
    "\n",
    "plt.plot(losses)\n",
    "plt.title(\"ELBO\")\n",
    "plt.xlabel(\"step\")\n",
    "plt.ylabel(\"loss\");\n",
    "print('a = ',pyro.param(\"a\").item())\n",
    "print('b = ', pyro.param(\"b\").item())"
   ]
  },
  {
   "cell_type": "code",
   "execution_count": null,
   "metadata": {},
   "outputs": [],
   "source": []
  }
 ],
 "metadata": {
  "kernelspec": {
   "display_name": "Python 3",
   "language": "python",
   "name": "python3"
  },
  "language_info": {
   "codemirror_mode": {
    "name": "ipython",
    "version": 3
   },
   "file_extension": ".py",
   "mimetype": "text/x-python",
   "name": "python",
   "nbconvert_exporter": "python",
   "pygments_lexer": "ipython3",
   "version": "3.7.4"
  }
 },
 "nbformat": 4,
 "nbformat_minor": 2
}
