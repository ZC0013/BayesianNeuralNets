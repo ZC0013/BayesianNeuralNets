{
  "nbformat": 4,
  "nbformat_minor": 0,
  "metadata": {
    "kernelspec": {
      "name": "python3",
      "display_name": "Python 3"
    },
    "language_info": {
      "codemirror_mode": {
        "name": "ipython",
        "version": 3
      },
      "file_extension": ".py",
      "mimetype": "text/x-python",
      "name": "python",
      "nbconvert_exporter": "python",
      "pygments_lexer": "ipython3",
      "version": "3.7.4"
    },
    "colab": {
      "name": "Convolutional neural network.ipynb",
      "provenance": [],
      "collapsed_sections": []
    },
    "accelerator": "GPU"
  },
  "cells": [
    {
      "cell_type": "code",
      "metadata": {
        "id": "5cRsEd5481x6",
        "colab_type": "code",
        "colab": {
          "base_uri": "https://localhost:8080/",
          "height": 136
        },
        "outputId": "cead0042-6e61-4b1e-d4c1-6a29a2ee4b13"
      },
      "source": [
        "!pip3 install pyro-ppl"
      ],
      "execution_count": 1,
      "outputs": [
        {
          "output_type": "stream",
          "text": [
            "Requirement already satisfied: pyro-ppl in /usr/local/lib/python3.6/dist-packages (1.0.0)\n",
            "Requirement already satisfied: pyro-api>=0.1.1 in /usr/local/lib/python3.6/dist-packages (from pyro-ppl) (0.1.1)\n",
            "Requirement already satisfied: opt-einsum>=2.3.2 in /usr/local/lib/python3.6/dist-packages (from pyro-ppl) (3.1.0)\n",
            "Requirement already satisfied: torch>=1.3.0 in /usr/local/lib/python3.6/dist-packages (from pyro-ppl) (1.3.1+cu100)\n",
            "Requirement already satisfied: numpy>=1.7 in /usr/local/lib/python3.6/dist-packages (from pyro-ppl) (1.17.4)\n",
            "Requirement already satisfied: graphviz>=0.8 in /usr/local/lib/python3.6/dist-packages (from pyro-ppl) (0.10.1)\n",
            "Requirement already satisfied: tqdm>=4.36 in /usr/local/lib/python3.6/dist-packages (from pyro-ppl) (4.38.0)\n"
          ],
          "name": "stdout"
        }
      ]
    },
    {
      "cell_type": "code",
      "metadata": {
        "id": "YLV0RiKw8w59",
        "colab_type": "code",
        "colab": {}
      },
      "source": [
        "# Load the dataset and some utility functions\n",
        "from sklearn.model_selection import train_test_split\n",
        "from sklearn.preprocessing import scale\n",
        "\n",
        "import torch\n",
        "import torch.utils.data as utils\n",
        "import torch.nn.functional as F\n",
        "import torch.optim as optim\n",
        "from pyro.distributions.torch import Normal\n",
        "from pyro.distributions.torch import Categorical\n",
        "\n",
        "import torchvision\n",
        "from torchvision import datasets, transforms\n",
        "from torch.utils.data.sampler import SubsetRandomSampler\n",
        "\n",
        "\n",
        "# If GPU is available set it to a GPU\n",
        "DEVICE = torch.device(\"cuda:0\" if torch.cuda.is_available() else \"cpu\")\n",
        "\n",
        "import numpy as np\n",
        "import pyro\n",
        "import matplotlib.pyplot as plt"
      ],
      "execution_count": 0,
      "outputs": []
    },
    {
      "cell_type": "code",
      "metadata": {
        "id": "shinBEUF8w6B",
        "colab_type": "code",
        "colab": {
          "base_uri": "https://localhost:8080/",
          "height": 986
        },
        "outputId": "e7bea105-351f-4444-f33e-815ec7eb0d01"
      },
      "source": [
        "normalize = transforms.Normalize((0.0,),(1/255.0,)) \n",
        "data_dir = \"data/\"\n",
        "\n",
        "# Get TRAINING and VALIDATION datasets\n",
        "# Define transforms\n",
        "valid_transform = transforms.Compose([\n",
        "        transforms.ToTensor(),\n",
        "        normalize,\n",
        "        transforms.RandomCrop(32, padding=4),\n",
        "        transforms.RandomHorizontalFlip(),\n",
        "    ])\n",
        "train_transform = transforms.Compose([\n",
        "    transforms.RandomCrop(28, padding=0),\n",
        "    transforms.RandomHorizontalFlip(),\n",
        "    transforms.ToTensor(),\n",
        "    normalize\n",
        "])\n",
        "\n",
        "\n",
        "# load the dataset\n",
        "train_dataset = datasets.MNIST(root=data_dir, train=True, \n",
        "                download=True, transform=train_transform)\n",
        "\n",
        "valid_dataset = datasets.MNIST(root=data_dir, train=True, \n",
        "                download=True, transform=valid_transform)\n",
        "\n",
        "# Get 20% as a validation dataset\n",
        "num_train = len(train_dataset)\n",
        "indices = list(range(num_train))\n",
        "split = int(np.floor(0.2 * num_train))\n",
        "\n",
        "np.random.seed(1234)\n",
        "np.random.shuffle(indices)\n",
        "\n",
        "train_idx, valid_idx = indices[split:], indices[:split]\n",
        "\n",
        "train_sampler = SubsetRandomSampler(train_idx)\n",
        "valid_sampler = SubsetRandomSampler(valid_idx)\n",
        "\n",
        "train_loader = torch.utils.data.DataLoader(train_dataset, \n",
        "                batch_size=64, sampler=train_sampler, \n",
        "                num_workers=8)\n",
        "\n",
        "valid_loader = torch.utils.data.DataLoader(valid_dataset, \n",
        "                batch_size=64, sampler=valid_sampler, \n",
        "                num_workers=8)\n",
        "\n",
        "    # define transform\n",
        "transform = transforms.Compose([\n",
        "    transforms.ToTensor(),\n",
        "    normalize\n",
        "])\n",
        "\n",
        "test_dataset = datasets.MNIST(root=data_dir, \n",
        "                           train=False, \n",
        "                           download=True,\n",
        "                           transform=transform)\n",
        "\n",
        "\n",
        "test_loader = torch.utils.data.DataLoader(test_dataset, \n",
        "                                        batch_size=32, \n",
        "                                        shuffle=True, \n",
        "                                        num_workers=8)\n",
        "\n",
        "examples = enumerate(train_loader)\n",
        "print(next(examples))"
      ],
      "execution_count": 3,
      "outputs": [
        {
          "output_type": "stream",
          "text": [
            "(0, [tensor([[[[0., 0., 0.,  ..., 0., 0., 0.],\n",
            "          [0., 0., 0.,  ..., 0., 0., 0.],\n",
            "          [0., 0., 0.,  ..., 0., 0., 0.],\n",
            "          ...,\n",
            "          [0., 0., 0.,  ..., 0., 0., 0.],\n",
            "          [0., 0., 0.,  ..., 0., 0., 0.],\n",
            "          [0., 0., 0.,  ..., 0., 0., 0.]]],\n",
            "\n",
            "\n",
            "        [[[0., 0., 0.,  ..., 0., 0., 0.],\n",
            "          [0., 0., 0.,  ..., 0., 0., 0.],\n",
            "          [0., 0., 0.,  ..., 0., 0., 0.],\n",
            "          ...,\n",
            "          [0., 0., 0.,  ..., 0., 0., 0.],\n",
            "          [0., 0., 0.,  ..., 0., 0., 0.],\n",
            "          [0., 0., 0.,  ..., 0., 0., 0.]]],\n",
            "\n",
            "\n",
            "        [[[0., 0., 0.,  ..., 0., 0., 0.],\n",
            "          [0., 0., 0.,  ..., 0., 0., 0.],\n",
            "          [0., 0., 0.,  ..., 0., 0., 0.],\n",
            "          ...,\n",
            "          [0., 0., 0.,  ..., 0., 0., 0.],\n",
            "          [0., 0., 0.,  ..., 0., 0., 0.],\n",
            "          [0., 0., 0.,  ..., 0., 0., 0.]]],\n",
            "\n",
            "\n",
            "        ...,\n",
            "\n",
            "\n",
            "        [[[0., 0., 0.,  ..., 0., 0., 0.],\n",
            "          [0., 0., 0.,  ..., 0., 0., 0.],\n",
            "          [0., 0., 0.,  ..., 0., 0., 0.],\n",
            "          ...,\n",
            "          [0., 0., 0.,  ..., 0., 0., 0.],\n",
            "          [0., 0., 0.,  ..., 0., 0., 0.],\n",
            "          [0., 0., 0.,  ..., 0., 0., 0.]]],\n",
            "\n",
            "\n",
            "        [[[0., 0., 0.,  ..., 0., 0., 0.],\n",
            "          [0., 0., 0.,  ..., 0., 0., 0.],\n",
            "          [0., 0., 0.,  ..., 0., 0., 0.],\n",
            "          ...,\n",
            "          [0., 0., 0.,  ..., 0., 0., 0.],\n",
            "          [0., 0., 0.,  ..., 0., 0., 0.],\n",
            "          [0., 0., 0.,  ..., 0., 0., 0.]]],\n",
            "\n",
            "\n",
            "        [[[0., 0., 0.,  ..., 0., 0., 0.],\n",
            "          [0., 0., 0.,  ..., 0., 0., 0.],\n",
            "          [0., 0., 0.,  ..., 0., 0., 0.],\n",
            "          ...,\n",
            "          [0., 0., 0.,  ..., 0., 0., 0.],\n",
            "          [0., 0., 0.,  ..., 0., 0., 0.],\n",
            "          [0., 0., 0.,  ..., 0., 0., 0.]]]]), tensor([1, 7, 3, 2, 7, 8, 8, 1, 0, 5, 5, 8, 3, 5, 3, 5, 0, 5, 7, 3, 5, 2, 6, 4,\n",
            "        4, 2, 3, 7, 9, 9, 7, 6, 1, 9, 4, 2, 9, 8, 8, 3, 2, 1, 5, 3, 8, 7, 4, 5,\n",
            "        6, 1, 1, 5, 2, 5, 7, 0, 6, 6, 8, 3, 9, 2, 4, 9])])\n"
          ],
          "name": "stdout"
        }
      ]
    },
    {
      "cell_type": "code",
      "metadata": {
        "id": "cqwgO8oA8w6D",
        "colab_type": "code",
        "colab": {
          "base_uri": "https://localhost:8080/",
          "height": 284
        },
        "outputId": "ccfac24d-d39f-41f8-e680-a124a40792fd"
      },
      "source": [
        "fig = plt.figure()\n",
        "for i in range(6):\n",
        "    plt.subplot(3,2,i+1)\n",
        "    plt.tight_layout()\n",
        "    _, (image, label) = next(examples)\n",
        "    i = np.random.randint(0,63)\n",
        "    plt.imshow(torch.squeeze(image[i]), cmap='gray', interpolation='none')\n",
        "    plt.title(\"Ground Truth: {}\".format(label[i].item()))\n",
        "    plt.xticks([])\n",
        "    plt.yticks([])"
      ],
      "execution_count": 4,
      "outputs": [
        {
          "output_type": "display_data",
          "data": {
            "image/png": "[encoded data removed]",
            "text/plain": [
              "<Figure size 432x288 with 6 Axes>"
            ]
          },
          "metadata": {
            "tags": []
          }
        }
      ]
    },
    {
      "cell_type": "code",
      "metadata": {
        "id": "9wDnpuzd8w6F",
        "colab_type": "code",
        "colab": {
          "base_uri": "https://localhost:8080/",
          "height": 136
        },
        "outputId": "beceff39-d8f3-4808-f6e1-c5f0ec9df327"
      },
      "source": [
        "# Define a very simple model consisting of 4 inputs, 10 input nodes and 4 output nodes\n",
        "class LeNet(torch.nn.Module):\n",
        "    def __init__(self):\n",
        "        super(LeNet, self).__init__()\n",
        "        self.conv1 = torch.nn.Conv2d(1, 6, 5)\n",
        "        self.conv2 = torch.nn.Conv2d(6, 16, 5)\n",
        "        self.fc1   = torch.nn.Linear(256, 120)\n",
        "        self.fc2   = torch.nn.Linear(120, 84)\n",
        "        self.fc3   = torch.nn.Linear(84, 10)\n",
        "\n",
        "    def forward(self, x):\n",
        "        out = F.relu(self.conv1(x))\n",
        "        out = F.max_pool2d(out, 2)\n",
        "        out = F.relu(self.conv2(out))\n",
        "        out = F.max_pool2d(out, 2)\n",
        "        out = out.view(out.size(0), -1)\n",
        "        out = F.relu(self.fc1(out))\n",
        "        out = F.relu(self.fc2(out))\n",
        "        out = self.fc3(out)\n",
        "        return out\n",
        "    \n",
        "net = LeNet()\n",
        "net.to(DEVICE)"
      ],
      "execution_count": 5,
      "outputs": [
        {
          "output_type": "execute_result",
          "data": {
            "text/plain": [
              "LeNet(\n",
              "  (conv1): Conv2d(1, 6, kernel_size=(5, 5), stride=(1, 1))\n",
              "  (conv2): Conv2d(6, 16, kernel_size=(5, 5), stride=(1, 1))\n",
              "  (fc1): Linear(in_features=256, out_features=120, bias=True)\n",
              "  (fc2): Linear(in_features=120, out_features=84, bias=True)\n",
              "  (fc3): Linear(in_features=84, out_features=10, bias=True)\n",
              ")"
            ]
          },
          "metadata": {
            "tags": []
          },
          "execution_count": 5
        }
      ]
    },
    {
      "cell_type": "code",
      "metadata": {
        "id": "1Tm8EBHC8w6G",
        "colab_type": "code",
        "colab": {}
      },
      "source": [
        "# Define an optimiser\n",
        "criterion = torch.nn.CrossEntropyLoss()\n",
        "optimizer = optim.Adam(net.parameters(), lr=0.001)"
      ],
      "execution_count": 0,
      "outputs": []
    },
    {
      "cell_type": "code",
      "metadata": {
        "id": "8KVm3GqG8w6I",
        "colab_type": "code",
        "colab": {}
      },
      "source": [
        "# Just a utility function to calculate the accuracy\n",
        "def accuracy(out, labels):\n",
        "    outputs = np.argmax(out, axis=1)\n",
        "    return np.sum(outputs==labels)/float(labels.size)"
      ],
      "execution_count": 0,
      "outputs": []
    },
    {
      "cell_type": "code",
      "metadata": {
        "scrolled": true,
        "id": "zchU4Uqs8w6J",
        "colab_type": "code",
        "colab": {
          "base_uri": "https://localhost:8080/",
          "height": 418
        },
        "outputId": "20cddc0b-15de-42d1-d98d-03ac82c00985"
      },
      "source": [
        "EPOCHS = 5\n",
        "\n",
        "train_loss = []\n",
        "val_loss = []\n",
        "\n",
        "train_acc = []\n",
        "val_acc = []\n",
        "\n",
        "with torch.no_grad():\n",
        "    t = net(train_dataset.data.unsqueeze(1).float().to(DEVICE))\n",
        "    v = net(valid_dataset.data.unsqueeze(1).float().to(DEVICE))\n",
        "    t_loss = criterion(t, train_dataset.targets.to(DEVICE))\n",
        "    v_loss = criterion(v, valid_dataset.targets.to(DEVICE))\n",
        "    train_loss.append(t_loss.item())\n",
        "    val_loss.append(v_loss.item())\n",
        "    train_acc.append(accuracy(t.cpu().numpy(),train_dataset.targets.numpy()))\n",
        "    val_acc.append(accuracy(v.cpu().numpy(),valid_dataset.targets.numpy()))\n",
        "    print(\"Training accuracy: {0:.2f}\".format(train_acc[-1]))\n",
        "    print(\"Validation accuracy: {0:.2f}\".format(val_acc[-1]))\n",
        "\n",
        "    # The main training loop\n",
        "for epoch in range(EPOCHS):\n",
        "    running_loss = 0.0\n",
        "    for i, data in enumerate(train_loader, 0):\n",
        "        inputs, labels = data[0].to(DEVICE), data[1].to(DEVICE)\n",
        "\n",
        "        # Zero the parameter gradients\n",
        "        optimizer.zero_grad()\n",
        "\n",
        "        # Forward + Backward + Optimize\n",
        "        outputs = net(inputs)\n",
        "        loss = criterion(outputs, labels)\n",
        "        loss.backward()\n",
        "        optimizer.step()\n",
        "\n",
        "        running_loss += loss\n",
        "        if i % 2000 == 1999:    # print every 2000 mini-batches\n",
        "            print('[%d, %5d] loss: %.3f' %\n",
        "                  (epoch + 1, i + 1, running_loss / 2000))\n",
        "            running_loss = 0.0\n",
        "            \n",
        "    with torch.no_grad():\n",
        "        t = net(train_dataset.data.unsqueeze(1).float().to(DEVICE))\n",
        "        v = net(valid_dataset.data.unsqueeze(1).float().to(DEVICE))\n",
        "        t_loss = criterion(t, train_dataset.targets.to(DEVICE))\n",
        "        v_loss = criterion(v, valid_dataset.targets.to(DEVICE))\n",
        "        train_loss.append(t_loss.item())\n",
        "        val_loss.append(v_loss.item())\n",
        "        train_acc.append(accuracy(t.cpu().numpy(),train_dataset.targets.numpy()))\n",
        "        val_acc.append(accuracy(v.cpu().numpy(),valid_dataset.targets.numpy()))\n",
        "        print(\"Training accuracy: {0:.2f}\".format(train_acc[-1]))\n",
        "        print(\"Validation accuracy: {0:.2f}\".format(val_acc[-1]))\n",
        "        \n",
        "print('Finished Training')"
      ],
      "execution_count": 8,
      "outputs": [
        {
          "output_type": "stream",
          "text": [
            "Training accuracy: 0.09\n",
            "Validation accuracy: 0.09\n",
            "Training accuracy: 0.95\n",
            "Validation accuracy: 0.95\n",
            "Training accuracy: 0.97\n",
            "Validation accuracy: 0.97\n",
            "Training accuracy: 0.97\n",
            "Validation accuracy: 0.97\n",
            "Training accuracy: 0.98\n",
            "Validation accuracy: 0.98\n",
            "Training accuracy: 0.97\n",
            "Validation accuracy: 0.97\n",
            "Finished Training\n"
          ],
          "name": "stdout"
        },
        {
          "output_type": "error",
          "ename": "AttributeError",
          "evalue": "ignored",
          "traceback": [
            "\u001b[0;31m---------------------------------------------------------------------------\u001b[0m",
            "\u001b[0;31mAttributeError\u001b[0m                            Traceback (most recent call last)",
            "\u001b[0;32m<ipython-input-8-b271befaf003>\u001b[0m in \u001b[0;36m<module>\u001b[0;34m()\u001b[0m\n\u001b[1;32m     54\u001b[0m \u001b[0mprint\u001b[0m\u001b[0;34m(\u001b[0m\u001b[0;34m'Finished Training'\u001b[0m\u001b[0;34m)\u001b[0m\u001b[0;34m\u001b[0m\u001b[0;34m\u001b[0m\u001b[0m\n\u001b[1;32m     55\u001b[0m \u001b[0;32mwith\u001b[0m \u001b[0mtorch\u001b[0m\u001b[0;34m.\u001b[0m\u001b[0mno_grad\u001b[0m\u001b[0;34m(\u001b[0m\u001b[0;34m)\u001b[0m\u001b[0;34m:\u001b[0m\u001b[0;34m\u001b[0m\u001b[0;34m\u001b[0m\u001b[0m\n\u001b[0;32m---> 56\u001b[0;31m     \u001b[0mprint\u001b[0m\u001b[0;34m(\u001b[0m\u001b[0;34m\"Test accuracy: {0:.2f}\"\u001b[0m\u001b[0;34m.\u001b[0m\u001b[0mformat\u001b[0m\u001b[0;34m(\u001b[0m\u001b[0maccuracy\u001b[0m\u001b[0;34m(\u001b[0m\u001b[0mnet\u001b[0m\u001b[0;34m(\u001b[0m\u001b[0mtest_dataset\u001b[0m\u001b[0;34m.\u001b[0m\u001b[0mtensors\u001b[0m\u001b[0;34m[\u001b[0m\u001b[0;36m0\u001b[0m\u001b[0;34m]\u001b[0m\u001b[0;34m)\u001b[0m\u001b[0;34m.\u001b[0m\u001b[0mnumpy\u001b[0m\u001b[0;34m(\u001b[0m\u001b[0;34m)\u001b[0m\u001b[0;34m,\u001b[0m\u001b[0mtest_dataset\u001b[0m\u001b[0;34m.\u001b[0m\u001b[0mtensors\u001b[0m\u001b[0;34m[\u001b[0m\u001b[0;36m1\u001b[0m\u001b[0;34m]\u001b[0m\u001b[0;34m.\u001b[0m\u001b[0mnumpy\u001b[0m\u001b[0;34m(\u001b[0m\u001b[0;34m)\u001b[0m\u001b[0;34m)\u001b[0m\u001b[0;34m)\u001b[0m\u001b[0;34m)\u001b[0m\u001b[0;34m\u001b[0m\u001b[0;34m\u001b[0m\u001b[0m\n\u001b[0m",
            "\u001b[0;31mAttributeError\u001b[0m: 'MNIST' object has no attribute 'tensors'"
          ]
        }
      ]
    },
    {
      "cell_type": "code",
      "metadata": {
        "id": "DvHS_JL--5NF",
        "colab_type": "code",
        "colab": {
          "base_uri": "https://localhost:8080/",
          "height": 34
        },
        "outputId": "10e4c1be-580a-4d02-dfb3-29f2c8193089"
      },
      "source": [
        "with torch.no_grad():\n",
        "    print(\"Test accuracy: {0:.2f}\".format(accuracy(net(test_dataset.data.unsqueeze(1).float().to(DEVICE)).cpu().numpy(),test_dataset.targets.cpu().numpy())))"
      ],
      "execution_count": 9,
      "outputs": [
        {
          "output_type": "stream",
          "text": [
            "Test accuracy: 0.97\n"
          ],
          "name": "stdout"
        }
      ]
    },
    {
      "cell_type": "code",
      "metadata": {
        "id": "v2rzKxOx8w6L",
        "colab_type": "code",
        "colab": {
          "base_uri": "https://localhost:8080/",
          "height": 297
        },
        "outputId": "1002fef2-092f-4e21-a570-f2740e4528ad"
      },
      "source": [
        "fig, ax1 = plt.subplots()\n",
        "color = 'tab:red'\n",
        "ax1.set_xlabel(\"Epoch\")\n",
        "ax1.set_ylabel('Loss', color=color)\n",
        "ax1.plot(train_loss,label=\"Train Loss\")\n",
        "ax1.plot(val_loss,label=\"Validation Loss\")\n",
        "ax1.tick_params(axis='y', labelcolor=color)\n",
        "ax1.legend()\n",
        "\n",
        "ax2 = ax1.twinx()\n",
        "ax2.plot(train_acc,linestyle='dashed',label=\"Train Accuracy\")\n",
        "ax2.plot(val_acc,linestyle='dashed',label=\"Validation Accuracy\")\n",
        "ax2.tick_params(axis='y', labelcolor='tab:blue')\n",
        "ax2.legend()\n",
        "\n",
        "plt.title(\"Loss/Accuracy\")\n",
        "fig.tight_layout()"
      ],
      "execution_count": 10,
      "outputs": [
        {
          "output_type": "display_data",
          "data": {
            "image/png": "[encoded data removed]",
            "text/plain": [
              "<Figure size 432x288 with 2 Axes>"
            ]
          },
          "metadata": {
            "tags": []
          }
        }
      ]
    }
  ]
}