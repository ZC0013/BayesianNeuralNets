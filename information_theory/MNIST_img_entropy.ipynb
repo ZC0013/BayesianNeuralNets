{
 "cells": [
  {
   "cell_type": "markdown",
   "metadata": {},
   "source": [
    "# Entropy for MNIST dataset\n",
    "\n",
    "This notebook will demonstrate how to calculate the entropy for the image in the [MNIST dataset](http://yann.lecun.com/exdb/mnist/) for the respective gray-scale images.\n",
    "\n",
    "## Entropy\n",
    "\n",
    "Entropy for _discrete_ variables is defined as if we have some random variable $X \\sim )$ where $x$ is sampled from $p(x)$ and $p(x)$ is a probability density function then the entropy $H(X)$ is:\n",
    "\n",
    "$$H(X) = -\\sum p(x)\\log(p(x))$$\n",
    "\n",
    "For more details refer to: [link](http://www.cs-114.org/wp-content/uploads/2015/01/Elements_of_Information_Theory_Elements.pdf)\n",
    "\n",
    "If we consider a grayscale image for example from the MNIST dataset:"
   ]
  },
  {
   "cell_type": "code",
   "execution_count": 1,
   "metadata": {},
   "outputs": [],
   "source": [
    "import torchvision\n",
    "import torch\n",
    "import matplotlib.pyplot as plt\n",
    "%matplotlib inline\n",
    "import random\n",
    "import numpy as np\n",
    "\n",
    "from utils.functions import *\n",
    "\n",
    "torch.backends.cudnn.enabled = False"
   ]
  },
  {
   "cell_type": "code",
   "execution_count": 2,
   "metadata": {},
   "outputs": [],
   "source": [
    "data=torchvision.datasets.MNIST(root='data/', download=True, \\\n",
    "                                    transform=torchvision.transforms.Compose([\n",
    "                                       torchvision.transforms.ToTensor(),\n",
    "                                       torchvision.transforms.Normalize((0.0,),(1/255.0,))])\n",
    "                               )\n",
    "data_loader=torch.utils.data.DataLoader(data)\n",
    "examples = enumerate(data_loader)\n",
    "_, (image, label) = next(examples)"
   ]
  },
  {
   "cell_type": "markdown",
   "metadata": {},
   "source": [
    "Note, that originally the images are represented as a floating point numbers between 0 and 1, corresponding to the range between 0-255,which are the original RGB values and therefore we multiply them back to the range between 0-255 to enforce quantization of the respective pixels. "
   ]
  },
  {
   "cell_type": "code",
   "execution_count": 3,
   "metadata": {},
   "outputs": [
    {
     "name": "stdout",
     "output_type": "stream",
     "text": [
      "tensor([[[[  0.0000,   0.0000,   0.0000,   0.0000,   0.0000,   0.0000,   0.0000,\n",
      "             0.0000,   0.0000,   0.0000,   0.0000,   0.0000,   0.0000,   0.0000,\n",
      "             0.0000,   0.0000,   0.0000,   0.0000,   0.0000,   0.0000,   0.0000,\n",
      "             0.0000,   0.0000,   0.0000,   0.0000,   0.0000,   0.0000,   0.0000],\n",
      "          [  0.0000,   0.0000,   0.0000,   0.0000,   0.0000,   0.0000,   0.0000,\n",
      "             0.0000,   0.0000,   0.0000,   0.0000,   0.0000,   0.0000,   0.0000,\n",
      "             0.0000,   0.0000,   0.0000,   0.0000,   0.0000,   0.0000,   0.0000,\n",
      "             0.0000,   0.0000,   0.0000,   0.0000,   0.0000,   0.0000,   0.0000],\n",
      "          [  0.0000,   0.0000,   0.0000,   0.0000,   0.0000,   0.0000,   0.0000,\n",
      "             0.0000,   0.0000,   0.0000,   0.0000,   0.0000,   0.0000,   0.0000,\n",
      "             0.0000,   0.0000,   0.0000,   0.0000,   0.0000,   0.0000,   0.0000,\n",
      "             0.0000,   0.0000,   0.0000,   0.0000,   0.0000,   0.0000,   0.0000],\n",
      "          [  0.0000,   0.0000,   0.0000,   0.0000,   0.0000,   0.0000,   0.0000,\n",
      "             0.0000,   0.0000,   0.0000,   0.0000,   0.0000,   0.0000,   0.0000,\n",
      "             0.0000,   0.0000,   0.0000,   0.0000,   0.0000,   0.0000,   0.0000,\n",
      "             0.0000,   0.0000,   0.0000,   0.0000,   0.0000,   0.0000,   0.0000],\n",
      "          [  0.0000,   0.0000,   0.0000,   0.0000,   0.0000,   0.0000,   0.0000,\n",
      "             0.0000,   0.0000,   0.0000,   0.0000,   0.0000,   0.0000,   0.0000,\n",
      "             0.0000,   0.0000,   0.0000,   0.0000,   0.0000,   0.0000,   0.0000,\n",
      "             0.0000,   0.0000,   0.0000,   0.0000,   0.0000,   0.0000,   0.0000],\n",
      "          [  0.0000,   0.0000,   0.0000,   0.0000,   0.0000,   0.0000,   0.0000,\n",
      "             0.0000,   0.0000,   0.0000,   0.0000,   0.0000,   3.0000,  18.0000,\n",
      "            18.0000,  18.0000, 126.0000, 136.0000, 175.0000,  26.0000, 166.0000,\n",
      "           255.0000, 247.0000, 127.0000,   0.0000,   0.0000,   0.0000,   0.0000],\n",
      "          [  0.0000,   0.0000,   0.0000,   0.0000,   0.0000,   0.0000,   0.0000,\n",
      "             0.0000,  30.0000,  36.0000,  94.0000, 154.0000, 170.0000, 253.0000,\n",
      "           253.0000, 253.0000, 253.0000, 253.0000, 225.0000, 172.0000, 253.0000,\n",
      "           242.0000, 195.0000,  64.0000,   0.0000,   0.0000,   0.0000,   0.0000],\n",
      "          [  0.0000,   0.0000,   0.0000,   0.0000,   0.0000,   0.0000,   0.0000,\n",
      "            49.0000, 238.0000, 253.0000, 253.0000, 253.0000, 253.0000, 253.0000,\n",
      "           253.0000, 253.0000, 253.0000, 251.0000,  93.0000,  82.0000,  82.0000,\n",
      "            56.0000,  39.0000,   0.0000,   0.0000,   0.0000,   0.0000,   0.0000],\n",
      "          [  0.0000,   0.0000,   0.0000,   0.0000,   0.0000,   0.0000,   0.0000,\n",
      "            18.0000, 219.0000, 253.0000, 253.0000, 253.0000, 253.0000, 253.0000,\n",
      "           198.0000, 182.0000, 247.0000, 241.0000,   0.0000,   0.0000,   0.0000,\n",
      "             0.0000,   0.0000,   0.0000,   0.0000,   0.0000,   0.0000,   0.0000],\n",
      "          [  0.0000,   0.0000,   0.0000,   0.0000,   0.0000,   0.0000,   0.0000,\n",
      "             0.0000,  80.0000, 156.0000, 107.0000, 253.0000, 253.0000, 205.0000,\n",
      "            11.0000,   0.0000,  43.0000, 154.0000,   0.0000,   0.0000,   0.0000,\n",
      "             0.0000,   0.0000,   0.0000,   0.0000,   0.0000,   0.0000,   0.0000],\n",
      "          [  0.0000,   0.0000,   0.0000,   0.0000,   0.0000,   0.0000,   0.0000,\n",
      "             0.0000,   0.0000,  14.0000,   1.0000, 154.0000, 253.0000,  90.0000,\n",
      "             0.0000,   0.0000,   0.0000,   0.0000,   0.0000,   0.0000,   0.0000,\n",
      "             0.0000,   0.0000,   0.0000,   0.0000,   0.0000,   0.0000,   0.0000],\n",
      "          [  0.0000,   0.0000,   0.0000,   0.0000,   0.0000,   0.0000,   0.0000,\n",
      "             0.0000,   0.0000,   0.0000,   0.0000, 139.0000, 253.0000, 190.0000,\n",
      "             2.0000,   0.0000,   0.0000,   0.0000,   0.0000,   0.0000,   0.0000,\n",
      "             0.0000,   0.0000,   0.0000,   0.0000,   0.0000,   0.0000,   0.0000],\n",
      "          [  0.0000,   0.0000,   0.0000,   0.0000,   0.0000,   0.0000,   0.0000,\n",
      "             0.0000,   0.0000,   0.0000,   0.0000,  11.0000, 190.0000, 253.0000,\n",
      "            70.0000,   0.0000,   0.0000,   0.0000,   0.0000,   0.0000,   0.0000,\n",
      "             0.0000,   0.0000,   0.0000,   0.0000,   0.0000,   0.0000,   0.0000],\n",
      "          [  0.0000,   0.0000,   0.0000,   0.0000,   0.0000,   0.0000,   0.0000,\n",
      "             0.0000,   0.0000,   0.0000,   0.0000,   0.0000,  35.0000, 241.0000,\n",
      "           225.0000, 160.0000, 108.0000,   1.0000,   0.0000,   0.0000,   0.0000,\n",
      "             0.0000,   0.0000,   0.0000,   0.0000,   0.0000,   0.0000,   0.0000],\n",
      "          [  0.0000,   0.0000,   0.0000,   0.0000,   0.0000,   0.0000,   0.0000,\n",
      "             0.0000,   0.0000,   0.0000,   0.0000,   0.0000,   0.0000,  81.0000,\n",
      "           240.0000, 253.0000, 253.0000, 119.0000,  25.0000,   0.0000,   0.0000,\n",
      "             0.0000,   0.0000,   0.0000,   0.0000,   0.0000,   0.0000,   0.0000],\n",
      "          [  0.0000,   0.0000,   0.0000,   0.0000,   0.0000,   0.0000,   0.0000,\n",
      "             0.0000,   0.0000,   0.0000,   0.0000,   0.0000,   0.0000,   0.0000,\n",
      "            45.0000, 186.0000, 253.0000, 253.0000, 150.0000,  27.0000,   0.0000,\n",
      "             0.0000,   0.0000,   0.0000,   0.0000,   0.0000,   0.0000,   0.0000],\n",
      "          [  0.0000,   0.0000,   0.0000,   0.0000,   0.0000,   0.0000,   0.0000,\n",
      "             0.0000,   0.0000,   0.0000,   0.0000,   0.0000,   0.0000,   0.0000,\n",
      "             0.0000,  16.0000,  93.0000, 252.0000, 253.0000, 187.0000,   0.0000,\n",
      "             0.0000,   0.0000,   0.0000,   0.0000,   0.0000,   0.0000,   0.0000],\n",
      "          [  0.0000,   0.0000,   0.0000,   0.0000,   0.0000,   0.0000,   0.0000,\n",
      "             0.0000,   0.0000,   0.0000,   0.0000,   0.0000,   0.0000,   0.0000,\n",
      "             0.0000,   0.0000,   0.0000, 249.0000, 253.0000, 249.0000,  64.0000,\n",
      "             0.0000,   0.0000,   0.0000,   0.0000,   0.0000,   0.0000,   0.0000],\n",
      "          [  0.0000,   0.0000,   0.0000,   0.0000,   0.0000,   0.0000,   0.0000,\n",
      "             0.0000,   0.0000,   0.0000,   0.0000,   0.0000,   0.0000,   0.0000,\n",
      "            46.0000, 130.0000, 183.0000, 253.0000, 253.0000, 207.0000,   2.0000,\n",
      "             0.0000,   0.0000,   0.0000,   0.0000,   0.0000,   0.0000,   0.0000],\n",
      "          [  0.0000,   0.0000,   0.0000,   0.0000,   0.0000,   0.0000,   0.0000,\n",
      "             0.0000,   0.0000,   0.0000,   0.0000,   0.0000,  39.0000, 148.0000,\n",
      "           229.0000, 253.0000, 253.0000, 253.0000, 250.0000, 182.0000,   0.0000,\n",
      "             0.0000,   0.0000,   0.0000,   0.0000,   0.0000,   0.0000,   0.0000],\n",
      "          [  0.0000,   0.0000,   0.0000,   0.0000,   0.0000,   0.0000,   0.0000,\n",
      "             0.0000,   0.0000,   0.0000,  24.0000, 114.0000, 221.0000, 253.0000,\n",
      "           253.0000, 253.0000, 253.0000, 201.0000,  78.0000,   0.0000,   0.0000,\n",
      "             0.0000,   0.0000,   0.0000,   0.0000,   0.0000,   0.0000,   0.0000],\n",
      "          [  0.0000,   0.0000,   0.0000,   0.0000,   0.0000,   0.0000,   0.0000,\n",
      "             0.0000,  23.0000,  66.0000, 213.0000, 253.0000, 253.0000, 253.0000,\n",
      "           253.0000, 198.0000,  81.0000,   2.0000,   0.0000,   0.0000,   0.0000,\n",
      "             0.0000,   0.0000,   0.0000,   0.0000,   0.0000,   0.0000,   0.0000],\n",
      "          [  0.0000,   0.0000,   0.0000,   0.0000,   0.0000,   0.0000,  18.0000,\n",
      "           171.0000, 219.0000, 253.0000, 253.0000, 253.0000, 253.0000, 195.0000,\n",
      "            80.0000,   9.0000,   0.0000,   0.0000,   0.0000,   0.0000,   0.0000,\n",
      "             0.0000,   0.0000,   0.0000,   0.0000,   0.0000,   0.0000,   0.0000],\n",
      "          [  0.0000,   0.0000,   0.0000,   0.0000,  55.0000, 172.0000, 226.0000,\n",
      "           253.0000, 253.0000, 253.0000, 253.0000, 244.0000, 133.0000,  11.0000,\n",
      "             0.0000,   0.0000,   0.0000,   0.0000,   0.0000,   0.0000,   0.0000,\n",
      "             0.0000,   0.0000,   0.0000,   0.0000,   0.0000,   0.0000,   0.0000],\n",
      "          [  0.0000,   0.0000,   0.0000,   0.0000, 136.0000, 253.0000, 253.0000,\n",
      "           253.0000, 212.0000, 135.0000, 132.0000,  16.0000,   0.0000,   0.0000,\n",
      "             0.0000,   0.0000,   0.0000,   0.0000,   0.0000,   0.0000,   0.0000,\n",
      "             0.0000,   0.0000,   0.0000,   0.0000,   0.0000,   0.0000,   0.0000],\n",
      "          [  0.0000,   0.0000,   0.0000,   0.0000,   0.0000,   0.0000,   0.0000,\n",
      "             0.0000,   0.0000,   0.0000,   0.0000,   0.0000,   0.0000,   0.0000,\n",
      "             0.0000,   0.0000,   0.0000,   0.0000,   0.0000,   0.0000,   0.0000,\n",
      "             0.0000,   0.0000,   0.0000,   0.0000,   0.0000,   0.0000,   0.0000],\n",
      "          [  0.0000,   0.0000,   0.0000,   0.0000,   0.0000,   0.0000,   0.0000,\n",
      "             0.0000,   0.0000,   0.0000,   0.0000,   0.0000,   0.0000,   0.0000,\n",
      "             0.0000,   0.0000,   0.0000,   0.0000,   0.0000,   0.0000,   0.0000,\n",
      "             0.0000,   0.0000,   0.0000,   0.0000,   0.0000,   0.0000,   0.0000],\n",
      "          [  0.0000,   0.0000,   0.0000,   0.0000,   0.0000,   0.0000,   0.0000,\n",
      "             0.0000,   0.0000,   0.0000,   0.0000,   0.0000,   0.0000,   0.0000,\n",
      "             0.0000,   0.0000,   0.0000,   0.0000,   0.0000,   0.0000,   0.0000,\n"
     ]
    },
    {
     "name": "stdout",
     "output_type": "stream",
     "text": [
      "             0.0000,   0.0000,   0.0000,   0.0000,   0.0000,   0.0000,   0.0000]]]]) tensor([5])\n",
      "torch.Size([1, 1, 28, 28])\n"
     ]
    }
   ],
   "source": [
    "print(image,label)\n",
    "print(image.shape)"
   ]
  },
  {
   "cell_type": "code",
   "execution_count": 4,
   "metadata": {},
   "outputs": [
    {
     "data": {
      "image/png": "[encoded data removed]",
      "text/plain": [
       "<Figure size 432x288 with 6 Axes>"
      ]
     },
     "metadata": {},
     "output_type": "display_data"
    }
   ],
   "source": [
    "fig = plt.figure()\n",
    "for i in range(6):\n",
    "      plt.subplot(3,2,i+1)\n",
    "      plt.tight_layout()\n",
    "      _, (image, label) = next(examples)\n",
    "      plt.imshow(torch.squeeze(image), cmap='gray', interpolation='none')\n",
    "      plt.title(\"Ground Truth: {}\".format(label.item()))\n",
    "      plt.xticks([])\n",
    "      plt.yticks([])"
   ]
  },
  {
   "cell_type": "markdown",
   "metadata": {},
   "source": [
    "Now if we want to get an entropy of a single image we need to find the probability density function $p(x)$ across the pixel values in the image. The easiest way how to get that distribution, given that the individual pixels are independent, is to create a histogram of the pixel values: "
   ]
  },
  {
   "cell_type": "code",
   "execution_count": 5,
   "metadata": {},
   "outputs": [],
   "source": [
    "image, label = data[random.randint(0,len(data)-1)]\n",
    "image = image.numpy()\n",
    "image = image.astype(np.uint8)"
   ]
  },
  {
   "cell_type": "markdown",
   "metadata": {},
   "source": [
    "This is the original image: "
   ]
  },
  {
   "cell_type": "code",
   "execution_count": 6,
   "metadata": {},
   "outputs": [
    {
     "data": {
      "text/plain": [
       "([], <a list of 0 Text yticklabel objects>)"
      ]
     },
     "execution_count": 6,
     "metadata": {},
     "output_type": "execute_result"
    },
    {
     "data": {
      "image/png": "[encoded data removed]",
      "text/plain": [
       "<Figure size 432x288 with 1 Axes>"
      ]
     },
     "metadata": {},
     "output_type": "display_data"
    }
   ],
   "source": [
    "fig = plt.figure()\n",
    "plt.imshow(np.squeeze(image), cmap='gray', interpolation='none')\n",
    "plt.title(\"Ground Truth: {}\".format(label))\n",
    "plt.xticks([])\n",
    "plt.yticks([])"
   ]
  },
  {
   "cell_type": "code",
   "execution_count": 7,
   "metadata": {},
   "outputs": [
    {
     "name": "stdout",
     "output_type": "stream",
     "text": [
      "[[[  0   0   0   0   0   0   0   0   0   0   0   0   0   0   0   0   0\n",
      "     0   0   0   0   0   0   0   0   0   0   0]\n",
      "  [  0   0   0   0   0   0   0   0   0   0   0   0   0   0   0   0   0\n",
      "     0   0   0   0   0   0   0   0   0   0   0]\n",
      "  [  0   0   0   0   0   0   0   0   0   0   0   0   0   0   0   0   0\n",
      "     0   0   0   0   0   0   0   0   0   0   0]\n",
      "  [  0   0   0   0   0   0   0   0   0   0   0  47 159 243 210  86   0\n",
      "     0   0   0   0   0   0   0   0   0   0   0]\n",
      "  [  0   0   0   0   0   0   0   0   0  47 206 252 253 253 253 252 102\n",
      "     0   0   0   0   0   0   0   0   0   0   0]\n",
      "  [  0   0   0   0   0   0   0   0 121 250 253 169  48   8 108 253 208\n",
      "    57   0   0   0   0   0   0   0   0   0   0]\n",
      "  [  0   0   0   0   0   0   0  98 245 253  91   2   0   0   3 161 253\n",
      "   137   0   0   0   0   0   0   0   0   0   0]\n",
      "  [  0   0   0   0   0   0   0 160 253 120   2   0   0   0   0 125 253\n",
      "   137   0   0   0   0   0   0   0   0   0   0]\n",
      "  [  0   0   0   0   0   0   0  13  50   2   0   0   0   0   0 125 253\n",
      "   188   0   0   0   0   0   0   0   0   0   0]\n",
      "  [  0   0   0   0   0   0   0   0   0   0   0   0   0   0   0 125 253\n",
      "   223   0   0   0   0   0   0   0   0   0   0]\n",
      "  [  0   0   0   0   0   0   0   0   0   0   0   0   0   0   0 125 253\n",
      "   177   0   0   0   0   0   0   0   0   0   0]\n",
      "  [  0   0   0   0   0   0   0   0   0   0   0   0   0   0   0 125 253\n",
      "   137   0   0   0   0   0   0   0   0   0   0]\n",
      "  [  0   0   0   0   0   0   0   0   0   0   0   0   0   0   8 205 253\n",
      "    65   0   0   0   0   0   0   0   0   0   0]\n",
      "  [  0   0   0   0   0   0   0   0   0   0   0   0   0   0  87 253 183\n",
      "     9   0   0   0   0   0   0   0   0   0   0]\n",
      "  [  0   0   0   0   0   0   0   0   0   0   0   0   0   0 171 253 133\n",
      "     0   0   0   0   0   0   0   0   0   0   0]\n",
      "  [  0   0   0   0   0   0   0   0   0   0   0   0   0  33 233 249  58\n",
      "     0   0   0   0   0   0   0   0   0   0   0]\n",
      "  [  0   0   0   0   0   0   0   0   0   0   0   0  71 187 253 139   0\n",
      "     0   0   0   0   0   0   0   0   0   0   0]\n",
      "  [  0   0   0   0   0   0   0   0   0   0   0  88 247 253 148  10   0\n",
      "     0   0   0   0   0   0   0   0   0   0   0]\n",
      "  [  0   0   0   0   0   0   0   0   0   0  81 247 250 146  10   0   0\n",
      "     0   0   0   0   0   0   0   0   0   0   0]\n",
      "  [  0   0   0   0   0   0   0   0   0  29 218 251 104   0   0   0   0\n",
      "     0   0   0   0   0   0   0   0   0   0   0]\n",
      "  [  0   0   0   0   0   0   0   0  61 218 253 141   9   9   9   9   9\n",
      "     9   9  46  96 129 116   0   0   0   0   0]\n",
      "  [  0   0   0   0   0   0   0 142 250 253 253 253 254 253 253 253 254\n",
      "   253 253 253 254 253 214   0   0   0   0   0]\n",
      "  [  0   0   0   0   0   0   0 216 253 253 253 253 253 208 241 182 168\n",
      "   168 168 131  82  82  51   0   0   0   0   0]\n",
      "  [  0   0   0   0   0   0   0   0   0   0   0   0   0   0   0   0   0\n",
      "     0   0   0   0   0   0   0   0   0   0   0]\n",
      "  [  0   0   0   0   0   0   0   0   0   0   0   0   0   0   0   0   0\n",
      "     0   0   0   0   0   0   0   0   0   0   0]\n",
      "  [  0   0   0   0   0   0   0   0   0   0   0   0   0   0   0   0   0\n",
      "     0   0   0   0   0   0   0   0   0   0   0]\n",
      "  [  0   0   0   0   0   0   0   0   0   0   0   0   0   0   0   0   0\n",
      "     0   0   0   0   0   0   0   0   0   0   0]\n",
      "  [  0   0   0   0   0   0   0   0   0   0   0   0   0   0   0   0   0\n",
      "     0   0   0   0   0   0   0   0   0   0   0]]]\n"
     ]
    }
   ],
   "source": [
    "print(image)"
   ]
  },
  {
   "cell_type": "code",
   "execution_count": 8,
   "metadata": {},
   "outputs": [],
   "source": [
    "counts, bins = np.histogram(image, bins = 256)"
   ]
  },
  {
   "cell_type": "code",
   "execution_count": 9,
   "metadata": {},
   "outputs": [
    {
     "data": {
      "text/plain": [
       "(array([650.,   0.,   3.,   1.,   0.,   0.,   0.,   0.,   2.,   8.,   2.,\n",
       "          0.,   0.,   1.,   0.,   0.,   0.,   0.,   0.,   0.,   0.,   0.,\n",
       "          0.,   0.,   0.,   0.,   0.,   0.,   0.,   1.,   0.,   0.,   0.,\n",
       "          1.,   0.,   0.,   0.,   0.,   0.,   0.,   0.,   0.,   0.,   0.,\n",
       "          0.,   0.,   1.,   2.,   1.,   0.,   1.,   1.,   0.,   0.,   0.,\n",
       "          0.,   0.,   1.,   1.,   0.,   0.,   1.,   0.,   0.,   0.,   1.,\n",
       "          0.,   0.,   0.,   0.,   0.,   1.,   0.,   0.,   0.,   0.,   0.,\n",
       "          0.,   0.,   0.,   0.,   1.,   2.,   0.,   0.,   0.,   1.,   1.,\n",
       "          1.,   0.,   0.,   1.,   0.,   0.,   0.,   0.,   1.,   0.,   1.,\n",
       "          0.,   0.,   0.,   1.,   0.,   1.,   0.,   0.,   0.,   1.,   0.,\n",
       "          0.,   0.,   0.,   0.,   0.,   0.,   1.,   0.,   0.,   0.,   1.,\n",
       "          1.,   0.,   0.,   0.,   5.,   0.,   0.,   0.,   0.,   1.,   0.,\n",
       "          1.,   0.,   1.,   0.,   0.,   0.,   3.,   0.,   1.,   0.,   1.,\n",
       "          1.,   0.,   0.,   0.,   1.,   0.,   1.,   0.,   0.,   0.,   0.,\n",
       "          0.,   0.,   0.,   0.,   0.,   0.,   1.,   1.,   1.,   0.,   0.,\n",
       "          0.,   0.,   0.,   0.,   3.,   1.,   0.,   1.,   0.,   0.,   0.,\n",
       "          0.,   0.,   1.,   0.,   0.,   0.,   0.,   1.,   1.,   0.,   0.,\n",
       "          0.,   1.,   1.,   0.,   0.,   0.,   0.,   0.,   0.,   0.,   0.,\n",
       "          0.,   0.,   0.,   0.,   0.,   0.,   0.,   0.,   1.,   1.,   0.,\n",
       "          2.,   0.,   1.,   0.,   0.,   0.,   1.,   0.,   1.,   0.,   2.,\n",
       "          0.,   0.,   0.,   0.,   1.,   0.,   0.,   0.,   0.,   0.,   0.,\n",
       "          0.,   0.,   0.,   1.,   0.,   0.,   0.,   0.,   0.,   0.,   0.,\n",
       "          1.,   0.,   1.,   0.,   1.,   0.,   2.,   0.,   1.,   3.,   1.,\n",
       "          2.,  34.,   3.]),\n",
       " array([  0.       ,   0.9921875,   1.984375 ,   2.9765625,   3.96875  ,\n",
       "          4.9609375,   5.953125 ,   6.9453125,   7.9375   ,   8.9296875,\n",
       "          9.921875 ,  10.9140625,  11.90625  ,  12.8984375,  13.890625 ,\n",
       "         14.8828125,  15.875    ,  16.8671875,  17.859375 ,  18.8515625,\n",
       "         19.84375  ,  20.8359375,  21.828125 ,  22.8203125,  23.8125   ,\n",
       "         24.8046875,  25.796875 ,  26.7890625,  27.78125  ,  28.7734375,\n",
       "         29.765625 ,  30.7578125,  31.75     ,  32.7421875,  33.734375 ,\n",
       "         34.7265625,  35.71875  ,  36.7109375,  37.703125 ,  38.6953125,\n",
       "         39.6875   ,  40.6796875,  41.671875 ,  42.6640625,  43.65625  ,\n",
       "         44.6484375,  45.640625 ,  46.6328125,  47.625    ,  48.6171875,\n",
       "         49.609375 ,  50.6015625,  51.59375  ,  52.5859375,  53.578125 ,\n",
       "         54.5703125,  55.5625   ,  56.5546875,  57.546875 ,  58.5390625,\n",
       "         59.53125  ,  60.5234375,  61.515625 ,  62.5078125,  63.5      ,\n",
       "         64.4921875,  65.484375 ,  66.4765625,  67.46875  ,  68.4609375,\n",
       "         69.453125 ,  70.4453125,  71.4375   ,  72.4296875,  73.421875 ,\n",
       "         74.4140625,  75.40625  ,  76.3984375,  77.390625 ,  78.3828125,\n",
       "         79.375    ,  80.3671875,  81.359375 ,  82.3515625,  83.34375  ,\n",
       "         84.3359375,  85.328125 ,  86.3203125,  87.3125   ,  88.3046875,\n",
       "         89.296875 ,  90.2890625,  91.28125  ,  92.2734375,  93.265625 ,\n",
       "         94.2578125,  95.25     ,  96.2421875,  97.234375 ,  98.2265625,\n",
       "         99.21875  , 100.2109375, 101.203125 , 102.1953125, 103.1875   ,\n",
       "        104.1796875, 105.171875 , 106.1640625, 107.15625  , 108.1484375,\n",
       "        109.140625 , 110.1328125, 111.125    , 112.1171875, 113.109375 ,\n",
       "        114.1015625, 115.09375  , 116.0859375, 117.078125 , 118.0703125,\n",
       "        119.0625   , 120.0546875, 121.046875 , 122.0390625, 123.03125  ,\n",
       "        124.0234375, 125.015625 , 126.0078125, 127.       , 127.9921875,\n",
       "        128.984375 , 129.9765625, 130.96875  , 131.9609375, 132.953125 ,\n",
       "        133.9453125, 134.9375   , 135.9296875, 136.921875 , 137.9140625,\n",
       "        138.90625  , 139.8984375, 140.890625 , 141.8828125, 142.875    ,\n",
       "        143.8671875, 144.859375 , 145.8515625, 146.84375  , 147.8359375,\n",
       "        148.828125 , 149.8203125, 150.8125   , 151.8046875, 152.796875 ,\n",
       "        153.7890625, 154.78125  , 155.7734375, 156.765625 , 157.7578125,\n",
       "        158.75     , 159.7421875, 160.734375 , 161.7265625, 162.71875  ,\n",
       "        163.7109375, 164.703125 , 165.6953125, 166.6875   , 167.6796875,\n",
       "        168.671875 , 169.6640625, 170.65625  , 171.6484375, 172.640625 ,\n",
       "        173.6328125, 174.625    , 175.6171875, 176.609375 , 177.6015625,\n",
       "        178.59375  , 179.5859375, 180.578125 , 181.5703125, 182.5625   ,\n",
       "        183.5546875, 184.546875 , 185.5390625, 186.53125  , 187.5234375,\n",
       "        188.515625 , 189.5078125, 190.5      , 191.4921875, 192.484375 ,\n",
       "        193.4765625, 194.46875  , 195.4609375, 196.453125 , 197.4453125,\n",
       "        198.4375   , 199.4296875, 200.421875 , 201.4140625, 202.40625  ,\n",
       "        203.3984375, 204.390625 , 205.3828125, 206.375    , 207.3671875,\n",
       "        208.359375 , 209.3515625, 210.34375  , 211.3359375, 212.328125 ,\n",
       "        213.3203125, 214.3125   , 215.3046875, 216.296875 , 217.2890625,\n",
       "        218.28125  , 219.2734375, 220.265625 , 221.2578125, 222.25     ,\n",
       "        223.2421875, 224.234375 , 225.2265625, 226.21875  , 227.2109375,\n",
       "        228.203125 , 229.1953125, 230.1875   , 231.1796875, 232.171875 ,\n",
       "        233.1640625, 234.15625  , 235.1484375, 236.140625 , 237.1328125,\n",
       "        238.125    , 239.1171875, 240.109375 , 241.1015625, 242.09375  ,\n",
       "        243.0859375, 244.078125 , 245.0703125, 246.0625   , 247.0546875,\n",
       "        248.046875 , 249.0390625, 250.03125  , 251.0234375, 252.015625 ,\n",
       "        253.0078125, 254.       ]),\n",
       " <a list of 256 Patch objects>)"
      ]
     },
     "execution_count": 9,
     "metadata": {},
     "output_type": "execute_result"
    },
    {
     "data": {
      "image/png": "[encoded data removed]",
      "text/plain": [
       "<Figure size 432x288 with 1 Axes>"
      ]
     },
     "metadata": {
      "needs_background": "light"
     },
     "output_type": "display_data"
    }
   ],
   "source": [
    "fig = plt.figure()\n",
    "plt.hist(bins[:-1], bins, weights=counts)"
   ]
  },
  {
   "cell_type": "markdown",
   "metadata": {},
   "source": [
    "And now we are going to simply calculate the entropy over all the values in the histogram. First we need to convert them into a valid prbability density function and we can do so by dividing all values by the number of the pixels, which is in this case 28*28"
   ]
  },
  {
   "cell_type": "code",
   "execution_count": 10,
   "metadata": {},
   "outputs": [
    {
     "name": "stdout",
     "output_type": "stream",
     "text": [
      "[0.82908165 0.         0.00382653 0.00127551 0.         0.\n",
      " 0.         0.         0.00255102 0.01020408 0.00255102 0.\n",
      " 0.         0.00127551 0.         0.         0.         0.\n",
      " 0.         0.         0.         0.         0.         0.\n",
      " 0.         0.         0.         0.         0.         0.00127551\n",
      " 0.         0.         0.         0.00127551 0.         0.\n",
      " 0.         0.         0.         0.         0.         0.\n",
      " 0.         0.         0.         0.         0.00127551 0.00255102\n",
      " 0.00127551 0.         0.00127551 0.00127551 0.         0.\n",
      " 0.         0.         0.         0.00127551 0.00127551 0.\n",
      " 0.         0.00127551 0.         0.         0.         0.00127551\n",
      " 0.         0.         0.         0.         0.         0.00127551\n",
      " 0.         0.         0.         0.         0.         0.\n",
      " 0.         0.         0.         0.00127551 0.00255102 0.\n",
      " 0.         0.         0.00127551 0.00127551 0.00127551 0.\n",
      " 0.         0.00127551 0.         0.         0.         0.\n",
      " 0.00127551 0.         0.00127551 0.         0.         0.\n",
      " 0.00127551 0.         0.00127551 0.         0.         0.\n",
      " 0.00127551 0.         0.         0.         0.         0.\n",
      " 0.         0.         0.00127551 0.         0.         0.\n",
      " 0.00127551 0.00127551 0.         0.         0.         0.00637755\n",
      " 0.         0.         0.         0.         0.00127551 0.\n",
      " 0.00127551 0.         0.00127551 0.         0.         0.\n",
      " 0.00382653 0.         0.00127551 0.         0.00127551 0.00127551\n",
      " 0.         0.         0.         0.00127551 0.         0.00127551\n",
      " 0.         0.         0.         0.         0.         0.\n",
      " 0.         0.         0.         0.         0.00127551 0.00127551\n",
      " 0.00127551 0.         0.         0.         0.         0.\n",
      " 0.         0.00382653 0.00127551 0.         0.00127551 0.\n",
      " 0.         0.         0.         0.         0.00127551 0.\n",
      " 0.         0.         0.         0.00127551 0.00127551 0.\n",
      " 0.         0.         0.00127551 0.00127551 0.         0.\n",
      " 0.         0.         0.         0.         0.         0.\n",
      " 0.         0.         0.         0.         0.         0.\n",
      " 0.         0.         0.00127551 0.00127551 0.         0.00255102\n",
      " 0.         0.00127551 0.         0.         0.         0.00127551\n",
      " 0.         0.00127551 0.         0.00255102 0.         0.\n",
      " 0.         0.         0.00127551 0.         0.         0.\n",
      " 0.         0.         0.         0.         0.         0.\n",
      " 0.00127551 0.         0.         0.         0.         0.\n",
      " 0.         0.         0.00127551 0.         0.00127551 0.\n",
      " 0.00127551 0.         0.00255102 0.         0.00127551 0.00382653\n",
      " 0.00127551 0.00255102 0.04336735 0.00382653]\n"
     ]
    }
   ],
   "source": [
    "counts = np.array((counts),dtype=np.float32)\n",
    "counts/=28*28\n",
    "print(counts)"
   ]
  },
  {
   "cell_type": "code",
   "execution_count": 11,
   "metadata": {},
   "outputs": [
    {
     "name": "stdout",
     "output_type": "stream",
     "text": [
      "1.550742769613862\n"
     ]
    }
   ],
   "source": [
    "H_X = 0.0\n",
    "for p_x in counts:\n",
    "    if p_x:\n",
    "        H_X-=p_x * np.log2(p_x)\n",
    "print(H_X)"
   ]
  },
  {
   "cell_type": "code",
   "execution_count": 12,
   "metadata": {},
   "outputs": [
    {
     "name": "stdout",
     "output_type": "stream",
     "text": [
      "1.550742810016934\n"
     ]
    }
   ],
   "source": [
    "# For reference:\n",
    "import skimage    \n",
    "entropy = skimage.measure.shannon_entropy(image)\n",
    "print(entropy)"
   ]
  }
 ],
 "metadata": {
  "kernelspec": {
   "display_name": "Python 3",
   "language": "python",
   "name": "python3"
  },
  "language_info": {
   "codemirror_mode": {
    "name": "ipython",
    "version": 3
   },
   "file_extension": ".py",
   "mimetype": "text/x-python",
   "name": "python",
   "nbconvert_exporter": "python",
   "pygments_lexer": "ipython3",
   "version": "3.7.4"
  }
 },
 "nbformat": 4,
 "nbformat_minor": 2
}
